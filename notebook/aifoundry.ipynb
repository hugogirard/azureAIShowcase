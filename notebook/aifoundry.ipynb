{
 "cells": [
  {
   "cell_type": "markdown",
   "metadata": {},
   "source": [
    "### Install python packages"
   ]
  },
  {
   "cell_type": "code",
   "execution_count": null,
   "metadata": {},
   "outputs": [],
   "source": [
    "%pip install -r requirements.txt"
   ]
  },
  {
   "cell_type": "markdown",
   "metadata": {},
   "source": [
    "Import all needed librairies"
   ]
  },
  {
   "cell_type": "code",
   "execution_count": 8,
   "metadata": {},
   "outputs": [],
   "source": [
    "import os\n",
    "import sys\n",
    "import pathlib\n",
    "import logging\n",
    "from azure.identity import DefaultAzureCredential\n",
    "from azure.ai.projects import AIProjectClient\n",
    "from azure.ai.projects.models import ConnectionType\n",
    "from opentelemetry import trace\n",
    "from pathlib import Path\n",
    "from azure.ai.inference.tracing import AIInferenceInstrumentor\n",
    "from azure.core.credentials import AzureKeyCredential\n",
    "from azure.search.documents import SearchClient\n",
    "from azure.ai.inference.prompts import PromptTemplate\n",
    "from azure.search.documents.models import VectorizedQuery\n",
    "from dotenv import load_dotenv"
   ]
  },
  {
   "cell_type": "markdown",
   "metadata": {},
   "source": [
    "Configure environment"
   ]
  },
  {
   "cell_type": "code",
   "execution_count": 9,
   "metadata": {},
   "outputs": [
    {
     "data": {
      "text/plain": [
       "True"
      ]
     },
     "execution_count": 9,
     "metadata": {},
     "output_type": "execute_result"
    }
   ],
   "source": [
    "load_dotenv(override=True)"
   ]
  },
  {
   "cell_type": "markdown",
   "metadata": {},
   "source": [
    "Configure logger"
   ]
  },
  {
   "cell_type": "code",
   "execution_count": 10,
   "metadata": {},
   "outputs": [],
   "source": [
    "ASSET_PATH = pathlib.Path().resolve() / \"assets\"\n",
    "\n",
    "# Configure an root app logger that prints info level logs to stdout\n",
    "logger = logging.getLogger(\"app\")\n",
    "logger.setLevel(logging.INFO)\n",
    "logger.addHandler(logging.StreamHandler(stream=sys.stdout))\n",
    "\n",
    "def get_logger(module_name):\n",
    "    return logging.getLogger(f\"app.{module_name}\")\n",
    "\n",
    "def enable_telemetry(log_to_project: bool = False):\n",
    "    AIInferenceInstrumentor().instrument()\n",
    "\n",
    "    # enable logging message contents\n",
    "    os.environ[\"AZURE_TRACING_GEN_AI_CONTENT_RECORDING_ENABLED\"] = \"true\"\n",
    "\n",
    "    if log_to_project:                \n",
    "        from azure.monitor.opentelemetry import configure_azure_monitor\n",
    "\n",
    "        project = AIProjectClient.from_connection_string(\n",
    "            conn_str=os.environ[\"AIPROJECT_CONNECTION_STRING\"], credential=DefaultAzureCredential()\n",
    "        )\n",
    "        tracing_link = f\"https://ai.azure.com/tracing?wsid=/subscriptions/{project.scope['subscription_id']}/resourceGroups/{project.scope['resource_group_name']}/providers/Microsoft.MachineLearningServices/workspaces/{project.scope['project_name']}\"\n",
    "        application_insights_connection_string = project.telemetry.get_connection_string()\n",
    "        if not application_insights_connection_string:\n",
    "            logger.warning(\n",
    "                \"No application insights configured, telemetry will not be logged to project. Add application insights at:\"\n",
    "            )\n",
    "            logger.warning(tracing_link)\n",
    "\n",
    "            return\n",
    "\n",
    "        configure_azure_monitor(connection_string=application_insights_connection_string)\n",
    "        logger.info(\"Enabled telemetry logging to project, view traces at:\")\n",
    "        logger.info(tracing_link)"
   ]
  },
  {
   "cell_type": "markdown",
   "metadata": {},
   "source": [
    "Create the needed clients"
   ]
  },
  {
   "cell_type": "code",
   "execution_count": 11,
   "metadata": {},
   "outputs": [],
   "source": [
    "logger = get_logger(__name__)\n",
    "tracer = trace.get_tracer(__name__)\n",
    "\n",
    "# create a project client using environment variables loaded from the .env file\n",
    "project = AIProjectClient.from_connection_string(\n",
    "    conn_str=os.environ[\"AIPROJECT_CONNECTION_STRING\"], credential=DefaultAzureCredential()\n",
    ")\n",
    "\n",
    "# create a chat client we can use for testing\n",
    "chat = project.inference.get_chat_completions_client()\n",
    "\n",
    "# create embedding client\n",
    "embeddings = project.inference.get_embeddings_client()\n",
    "\n",
    "# use the project client to get the default search connection\n",
    "search_connection = project.connections.get_default(\n",
    "    connection_type=ConnectionType.AZURE_AI_SEARCH, include_credentials=True\n",
    ")\n",
    "\n",
    "# Create a search index client using the search connection\n",
    "# This client will be used to create and delete search indexes\n",
    "search_client = SearchClient(\n",
    "    index_name=os.environ[\"AISEARCH_INDEX_NAME\"],\n",
    "    endpoint=search_connection.endpoint_url,\n",
    "    credential=AzureKeyCredential(key=search_connection.key),\n",
    ")\n"
   ]
  },
  {
   "cell_type": "code",
   "execution_count": 12,
   "metadata": {},
   "outputs": [],
   "source": [
    "@tracer.start_as_current_span(name=\"get_product_documents\")\n",
    "def get_product_documents(messages: list, context: dict = None) -> dict:\n",
    "    if context is None:\n",
    "        context = {}\n",
    "\n",
    "    overrides = context.get(\"overrides\", {})\n",
    "    top = overrides.get(\"top\", 5)\n",
    "\n",
    "    # generate a search query from the chat messages\n",
    "    intent_prompty = PromptTemplate.from_prompty(Path(ASSET_PATH) / \"intent_mapping.prompty\")\n",
    "\n",
    "    intent_mapping_response = chat.complete(\n",
    "        model=os.environ[\"INTENT_MAPPING_MODEL\"],\n",
    "        messages=intent_prompty.create_messages(conversation=messages),\n",
    "        **intent_prompty.parameters,\n",
    "    )\n",
    "\n",
    "    search_query = intent_mapping_response.choices[0].message.content\n",
    "    logger.debug(f\"🧠 Intent mapping: {search_query}\")\n",
    "\n",
    "    # generate a vector representation of the search query\n",
    "    embedding = embeddings.embed(model=os.environ[\"EMBEDDINGS_MODEL\"], input=search_query)\n",
    "    search_vector = embedding.data[0].embedding\n",
    "\n",
    "    # search the index for products matching the search query\n",
    "    vector_query = VectorizedQuery(vector=search_vector, k_nearest_neighbors=top, fields=\"contentVector\")\n",
    "\n",
    "    search_results = search_client.search(\n",
    "        search_text=search_query, vector_queries=[vector_query], select=[\"id\", \"content\", \"filepath\", \"title\", \"url\"]\n",
    "    )\n",
    "\n",
    "    documents = [\n",
    "        {\n",
    "            \"id\": result[\"id\"],\n",
    "            \"content\": result[\"content\"],\n",
    "            \"filepath\": result[\"filepath\"],\n",
    "            \"title\": result[\"title\"],\n",
    "            \"url\": result[\"url\"],\n",
    "        }\n",
    "        for result in search_results\n",
    "    ]\n",
    "\n",
    "    # add results to the provided context\n",
    "    if \"thoughts\" not in context:\n",
    "        context[\"thoughts\"] = []\n",
    "\n",
    "    # add thoughts and documents to the context object so it can be returned to the caller\n",
    "    context[\"thoughts\"].append(\n",
    "        {\n",
    "            \"title\": \"Generated search query\",\n",
    "            \"description\": search_query,\n",
    "        }\n",
    "    )\n",
    "\n",
    "    if \"grounding_data\" not in context:\n",
    "        context[\"grounding_data\"] = []\n",
    "    context[\"grounding_data\"].append(documents)\n",
    "\n",
    "    logger.debug(f\"📄 {len(documents)} documents retrieved: {documents}\")\n",
    "    return documents"
   ]
  },
  {
   "cell_type": "markdown",
   "metadata": {},
   "source": [
    "Test the get product document"
   ]
  },
  {
   "cell_type": "code",
   "execution_count": 13,
   "metadata": {},
   "outputs": [
    {
     "name": "stdout",
     "output_type": "stream",
     "text": [
      "🧠 Intent mapping: {\n",
      "    \"intent\": \"The user is looking for recommendations for a tent that can accommodate 4 people.\",\n",
      "    \"search_query\": \"best tents for 4 people\"\n",
      "}\n",
      "🧠 Intent mapping: {\n",
      "    \"intent\": \"The user is looking for recommendations for a tent that can accommodate 4 people.\",\n",
      "    \"search_query\": \"best tents for 4 people\"\n",
      "}\n",
      "📄 5 documents retrieved: [{'id': '1', 'content': 'Unveiling the TrailMaster X4 Tent from OutdoorLiving, your home away from home for your next camping adventure. Crafted from durable polyester, this tent boasts a spacious interior perfect for four occupants. It ensures your dryness under drizzly skies thanks to its water-resistant construction, and the accompanying rainfly adds an extra layer of weather protection. It offers refreshing airflow and bug defence, courtesy of its mesh panels. Accessibility is not an issue with its multiple doors and interior pockets that keep small items tidy. Reflective guy lines grant better visibility at night, and the freestanding design simplifies setup and relocation. With the included carry bag, transporting this convenient abode becomes a breeze. Be it an overnight getaway or a week-long nature escapade, the TrailMaster X4 Tent provides comfort, convenience, and concord with the great outdoors. Comes with a two-year limited warranty to ensure customer satisfaction.', 'filepath': 'trailmaster-x4-tent', 'title': 'TrailMaster X4 Tent', 'url': '/products/trailmaster-x4-tent'}, {'id': '15', 'content': \"Introducing the OutdoorLiving SkyView 2-Person Tent, a perfect companion for your camping and hiking adventures. This tent offers a spacious interior that houses two people comfortably, with room to spare. Crafted from durable waterproof materials to shield you from the elements, it is the fortress you need in the wild. Setup is a breeze thanks to its intuitive design and color-coded poles, while two large doors allow for easy access. Stay organized with interior pockets, and store additional gear in its two vestibules. The tent also features mesh panels for effective ventilation, and it comes with a rainfly for extra weather protection. Light enough for on-the-go adventurers, it packs compactly into a carrying bag for seamless transportation. Reflective guy lines ensure visibility at night for added safety, and the tent stands freely for versatile placement. Experience the reliability of double-stitched seams that guarantee increased durability, and rest easy under the stars with OutdoorLiving's SkyView 2-Person Tent. It's not just a tent; it's your home away from home.\", 'filepath': 'skyview-2-person-tent', 'title': 'SkyView 2-Person Tent', 'url': '/products/skyview-2-person-tent'}, {'id': '8', 'content': \"Welcome to the joy of camping with the Alpine Explorer Tent! This robust, 8-person, 3-season marvel is from the responsible hands of the AlpineGear brand. Promising an enviable setup that is as straightforward as counting sheep, your camping experience is transformed into a breezy pastime. Looking for privacy? The detachable divider provides separate spaces at a moment's notice. Love a tent that breathes? The numerous mesh windows and adjustable vents fend off any condensation dragon trying to dampen your adventure fun. The waterproof assurance keeps you worry-free during unexpected rain dances. With a built-in gear loft to stash away your outdoor essentials, the Alpine Explorer Tent emerges as a smooth balance of privacy, comfort, and convenience. Simply put, this tent isn't just a shelter - it's your second home in the heart of nature! Whether you're a seasoned camper or a nature-loving novice, this tent makes exploring the outdoors a joyous journey.\", 'filepath': 'alpine-explorer-tent', 'title': 'Alpine Explorer Tent', 'url': '/products/alpine-explorer-tent'}, {'id': '12', 'content': \"Gravitate towards comfort with the TrekMaster Camping Chair from CampBuddy. This trusty outdoor companion boasts sturdy construction using high-quality materials that promise durability and enjoyment for seasons to come. Impeccably lightweight and portable, it's designed to be your go-to seat whether you're camping, at a picnic, cheering at a sporting event, or simply relishing in your backyard pleasures. Beyond its foldable design ensuring compact storage and easy transportation, its ergonomic magic is in the details. An adjustable recline, padded seat and backrest, integrated cup holder, and side pockets ensure the greatest outdoor comfort. Weather resistant, easy to clean, and capable of supporting diverse body types, this versatile chair also comes with a carry bag, ready for your next adventure.\", 'filepath': 'trekmaster-camping-chair', 'title': 'TrekMaster Camping Chair', 'url': '/products/trekmaster-camping-chair'}, {'id': '14', 'content': \"Meet the MountainDream Sleeping Bag: your new must-have companion for every outdoor adventure. Designed to handle 3-season camping with ease, it comes equipped with a premium synthetic insulation that will keep you cozy even when temperatures fall down to 15°F! Sporting a durable water-resistant nylon shell and soft breathable polyester lining, this bag doesn't sacrifice comfort for toughness. The star of the show is the contoured mummy shape that not only provides optimal heat retention but also cuts down on the weight. A smooth, snag-free YKK zipper with a unique anti-snag design allows for hassle-free operation, while the adjustable hood and full-length zipper baffle work together to ensure you stay warm all night long. Need to bring along some essentials? Not to worry! There's an interior pocket just for that. And when it's time to pack up? Just slip it into the included compression sack for easy storage and transport. Whether you're a backpacking pro or a camping novice, the MountainDream Sleeping Bag is the perfect blend of durability, warmth, and comfort that you've been looking for.\", 'filepath': 'mountaindream-sleeping-bag', 'title': 'MountainDream Sleeping Bag', 'url': '/products/mountaindream-sleeping-bag'}]\n",
      "📄 5 documents retrieved: [{'id': '1', 'content': 'Unveiling the TrailMaster X4 Tent from OutdoorLiving, your home away from home for your next camping adventure. Crafted from durable polyester, this tent boasts a spacious interior perfect for four occupants. It ensures your dryness under drizzly skies thanks to its water-resistant construction, and the accompanying rainfly adds an extra layer of weather protection. It offers refreshing airflow and bug defence, courtesy of its mesh panels. Accessibility is not an issue with its multiple doors and interior pockets that keep small items tidy. Reflective guy lines grant better visibility at night, and the freestanding design simplifies setup and relocation. With the included carry bag, transporting this convenient abode becomes a breeze. Be it an overnight getaway or a week-long nature escapade, the TrailMaster X4 Tent provides comfort, convenience, and concord with the great outdoors. Comes with a two-year limited warranty to ensure customer satisfaction.', 'filepath': 'trailmaster-x4-tent', 'title': 'TrailMaster X4 Tent', 'url': '/products/trailmaster-x4-tent'}, {'id': '15', 'content': \"Introducing the OutdoorLiving SkyView 2-Person Tent, a perfect companion for your camping and hiking adventures. This tent offers a spacious interior that houses two people comfortably, with room to spare. Crafted from durable waterproof materials to shield you from the elements, it is the fortress you need in the wild. Setup is a breeze thanks to its intuitive design and color-coded poles, while two large doors allow for easy access. Stay organized with interior pockets, and store additional gear in its two vestibules. The tent also features mesh panels for effective ventilation, and it comes with a rainfly for extra weather protection. Light enough for on-the-go adventurers, it packs compactly into a carrying bag for seamless transportation. Reflective guy lines ensure visibility at night for added safety, and the tent stands freely for versatile placement. Experience the reliability of double-stitched seams that guarantee increased durability, and rest easy under the stars with OutdoorLiving's SkyView 2-Person Tent. It's not just a tent; it's your home away from home.\", 'filepath': 'skyview-2-person-tent', 'title': 'SkyView 2-Person Tent', 'url': '/products/skyview-2-person-tent'}, {'id': '8', 'content': \"Welcome to the joy of camping with the Alpine Explorer Tent! This robust, 8-person, 3-season marvel is from the responsible hands of the AlpineGear brand. Promising an enviable setup that is as straightforward as counting sheep, your camping experience is transformed into a breezy pastime. Looking for privacy? The detachable divider provides separate spaces at a moment's notice. Love a tent that breathes? The numerous mesh windows and adjustable vents fend off any condensation dragon trying to dampen your adventure fun. The waterproof assurance keeps you worry-free during unexpected rain dances. With a built-in gear loft to stash away your outdoor essentials, the Alpine Explorer Tent emerges as a smooth balance of privacy, comfort, and convenience. Simply put, this tent isn't just a shelter - it's your second home in the heart of nature! Whether you're a seasoned camper or a nature-loving novice, this tent makes exploring the outdoors a joyous journey.\", 'filepath': 'alpine-explorer-tent', 'title': 'Alpine Explorer Tent', 'url': '/products/alpine-explorer-tent'}, {'id': '12', 'content': \"Gravitate towards comfort with the TrekMaster Camping Chair from CampBuddy. This trusty outdoor companion boasts sturdy construction using high-quality materials that promise durability and enjoyment for seasons to come. Impeccably lightweight and portable, it's designed to be your go-to seat whether you're camping, at a picnic, cheering at a sporting event, or simply relishing in your backyard pleasures. Beyond its foldable design ensuring compact storage and easy transportation, its ergonomic magic is in the details. An adjustable recline, padded seat and backrest, integrated cup holder, and side pockets ensure the greatest outdoor comfort. Weather resistant, easy to clean, and capable of supporting diverse body types, this versatile chair also comes with a carry bag, ready for your next adventure.\", 'filepath': 'trekmaster-camping-chair', 'title': 'TrekMaster Camping Chair', 'url': '/products/trekmaster-camping-chair'}, {'id': '14', 'content': \"Meet the MountainDream Sleeping Bag: your new must-have companion for every outdoor adventure. Designed to handle 3-season camping with ease, it comes equipped with a premium synthetic insulation that will keep you cozy even when temperatures fall down to 15°F! Sporting a durable water-resistant nylon shell and soft breathable polyester lining, this bag doesn't sacrifice comfort for toughness. The star of the show is the contoured mummy shape that not only provides optimal heat retention but also cuts down on the weight. A smooth, snag-free YKK zipper with a unique anti-snag design allows for hassle-free operation, while the adjustable hood and full-length zipper baffle work together to ensure you stay warm all night long. Need to bring along some essentials? Not to worry! There's an interior pocket just for that. And when it's time to pack up? Just slip it into the included compression sack for easy storage and transport. Whether you're a backpacking pro or a camping novice, the MountainDream Sleeping Bag is the perfect blend of durability, warmth, and comfort that you've been looking for.\", 'filepath': 'mountaindream-sleeping-bag', 'title': 'MountainDream Sleeping Bag', 'url': '/products/mountaindream-sleeping-bag'}]\n",
      "[{'id': '1', 'content': 'Unveiling the TrailMaster X4 Tent from OutdoorLiving, your home away from home for your next camping adventure. Crafted from durable polyester, this tent boasts a spacious interior perfect for four occupants. It ensures your dryness under drizzly skies thanks to its water-resistant construction, and the accompanying rainfly adds an extra layer of weather protection. It offers refreshing airflow and bug defence, courtesy of its mesh panels. Accessibility is not an issue with its multiple doors and interior pockets that keep small items tidy. Reflective guy lines grant better visibility at night, and the freestanding design simplifies setup and relocation. With the included carry bag, transporting this convenient abode becomes a breeze. Be it an overnight getaway or a week-long nature escapade, the TrailMaster X4 Tent provides comfort, convenience, and concord with the great outdoors. Comes with a two-year limited warranty to ensure customer satisfaction.', 'filepath': 'trailmaster-x4-tent', 'title': 'TrailMaster X4 Tent', 'url': '/products/trailmaster-x4-tent'}, {'id': '15', 'content': \"Introducing the OutdoorLiving SkyView 2-Person Tent, a perfect companion for your camping and hiking adventures. This tent offers a spacious interior that houses two people comfortably, with room to spare. Crafted from durable waterproof materials to shield you from the elements, it is the fortress you need in the wild. Setup is a breeze thanks to its intuitive design and color-coded poles, while two large doors allow for easy access. Stay organized with interior pockets, and store additional gear in its two vestibules. The tent also features mesh panels for effective ventilation, and it comes with a rainfly for extra weather protection. Light enough for on-the-go adventurers, it packs compactly into a carrying bag for seamless transportation. Reflective guy lines ensure visibility at night for added safety, and the tent stands freely for versatile placement. Experience the reliability of double-stitched seams that guarantee increased durability, and rest easy under the stars with OutdoorLiving's SkyView 2-Person Tent. It's not just a tent; it's your home away from home.\", 'filepath': 'skyview-2-person-tent', 'title': 'SkyView 2-Person Tent', 'url': '/products/skyview-2-person-tent'}, {'id': '8', 'content': \"Welcome to the joy of camping with the Alpine Explorer Tent! This robust, 8-person, 3-season marvel is from the responsible hands of the AlpineGear brand. Promising an enviable setup that is as straightforward as counting sheep, your camping experience is transformed into a breezy pastime. Looking for privacy? The detachable divider provides separate spaces at a moment's notice. Love a tent that breathes? The numerous mesh windows and adjustable vents fend off any condensation dragon trying to dampen your adventure fun. The waterproof assurance keeps you worry-free during unexpected rain dances. With a built-in gear loft to stash away your outdoor essentials, the Alpine Explorer Tent emerges as a smooth balance of privacy, comfort, and convenience. Simply put, this tent isn't just a shelter - it's your second home in the heart of nature! Whether you're a seasoned camper or a nature-loving novice, this tent makes exploring the outdoors a joyous journey.\", 'filepath': 'alpine-explorer-tent', 'title': 'Alpine Explorer Tent', 'url': '/products/alpine-explorer-tent'}, {'id': '12', 'content': \"Gravitate towards comfort with the TrekMaster Camping Chair from CampBuddy. This trusty outdoor companion boasts sturdy construction using high-quality materials that promise durability and enjoyment for seasons to come. Impeccably lightweight and portable, it's designed to be your go-to seat whether you're camping, at a picnic, cheering at a sporting event, or simply relishing in your backyard pleasures. Beyond its foldable design ensuring compact storage and easy transportation, its ergonomic magic is in the details. An adjustable recline, padded seat and backrest, integrated cup holder, and side pockets ensure the greatest outdoor comfort. Weather resistant, easy to clean, and capable of supporting diverse body types, this versatile chair also comes with a carry bag, ready for your next adventure.\", 'filepath': 'trekmaster-camping-chair', 'title': 'TrekMaster Camping Chair', 'url': '/products/trekmaster-camping-chair'}, {'id': '14', 'content': \"Meet the MountainDream Sleeping Bag: your new must-have companion for every outdoor adventure. Designed to handle 3-season camping with ease, it comes equipped with a premium synthetic insulation that will keep you cozy even when temperatures fall down to 15°F! Sporting a durable water-resistant nylon shell and soft breathable polyester lining, this bag doesn't sacrifice comfort for toughness. The star of the show is the contoured mummy shape that not only provides optimal heat retention but also cuts down on the weight. A smooth, snag-free YKK zipper with a unique anti-snag design allows for hassle-free operation, while the adjustable hood and full-length zipper baffle work together to ensure you stay warm all night long. Need to bring along some essentials? Not to worry! There's an interior pocket just for that. And when it's time to pack up? Just slip it into the included compression sack for easy storage and transport. Whether you're a backpacking pro or a camping novice, the MountainDream Sleeping Bag is the perfect blend of durability, warmth, and comfort that you've been looking for.\", 'filepath': 'mountaindream-sleeping-bag', 'title': 'MountainDream Sleeping Bag', 'url': '/products/mountaindream-sleeping-bag'}]\n"
     ]
    }
   ],
   "source": [
    "logger.setLevel(logging.DEBUG)\n",
    "\n",
    "query = \"I need a new tent for 4 people, what would you recommend?\"\n",
    "\n",
    "result = get_product_documents(messages=[{\"role\": \"user\", \"content\": query}])\n",
    "\n",
    "print(result)"
   ]
  },
  {
   "cell_type": "markdown",
   "metadata": {},
   "source": [
    "Now let's chat with our product"
   ]
  },
  {
   "cell_type": "code",
   "execution_count": 8,
   "metadata": {},
   "outputs": [],
   "source": [
    "@tracer.start_as_current_span(name=\"chat_with_products\")\n",
    "def chat_with_products(messages: list, context: dict = None) -> dict:\n",
    "    if context is None:\n",
    "        context = {}\n",
    "\n",
    "    # Get the list of all documents\n",
    "    documents = get_product_documents(messages, context)\n",
    "\n",
    "    # do a grounded chat call using the search results\n",
    "    grounded_chat_prompt = PromptTemplate.from_prompty(Path(ASSET_PATH) / \"grounded_chat.prompty\")\n",
    "\n",
    "    system_message = grounded_chat_prompt.create_messages(documents=documents, context=context)\n",
    "    response = chat.complete(\n",
    "        model=os.environ[\"CHAT_MODEL\"],\n",
    "        messages=system_message + messages,\n",
    "        **grounded_chat_prompt.parameters,\n",
    "    )\n",
    "    logger.info(f\"💬 Response: {response.choices[0].message}\")\n",
    "\n",
    "    # Return a chat protocol compliant response\n",
    "    return {\"message\": response.choices[0].message, \"context\": context}"
   ]
  },
  {
   "cell_type": "markdown",
   "metadata": {},
   "source": [
    "Now test the whole solution"
   ]
  },
  {
   "cell_type": "code",
   "execution_count": 9,
   "metadata": {},
   "outputs": [
    {
     "name": "stdout",
     "output_type": "stream",
     "text": [
      "Enabled telemetry logging to project, view traces at:\n",
      "https://ai.azure.com/tracing?wsid=/subscriptions/6e37307e-394c-478a-8404-4e441b3dfc1d/resourceGroups/rg-ai-hub/providers/Microsoft.MachineLearningServices/workspaces/ContosoTrek\n",
      "🧠 Intent mapping: {\n",
      "    \"intent\": \"The user is seeking recommendations for a tent suitable for 4 people.\",\n",
      "    \"search_query\": \"best tents for 4 people\"\n",
      "}\n",
      "📄 5 documents retrieved: [{'id': '1', 'content': 'Unveiling the TrailMaster X4 Tent from OutdoorLiving, your home away from home for your next camping adventure. Crafted from durable polyester, this tent boasts a spacious interior perfect for four occupants. It ensures your dryness under drizzly skies thanks to its water-resistant construction, and the accompanying rainfly adds an extra layer of weather protection. It offers refreshing airflow and bug defence, courtesy of its mesh panels. Accessibility is not an issue with its multiple doors and interior pockets that keep small items tidy. Reflective guy lines grant better visibility at night, and the freestanding design simplifies setup and relocation. With the included carry bag, transporting this convenient abode becomes a breeze. Be it an overnight getaway or a week-long nature escapade, the TrailMaster X4 Tent provides comfort, convenience, and concord with the great outdoors. Comes with a two-year limited warranty to ensure customer satisfaction.', 'filepath': 'trailmaster-x4-tent', 'title': 'TrailMaster X4 Tent', 'url': '/products/trailmaster-x4-tent'}, {'id': '15', 'content': \"Introducing the OutdoorLiving SkyView 2-Person Tent, a perfect companion for your camping and hiking adventures. This tent offers a spacious interior that houses two people comfortably, with room to spare. Crafted from durable waterproof materials to shield you from the elements, it is the fortress you need in the wild. Setup is a breeze thanks to its intuitive design and color-coded poles, while two large doors allow for easy access. Stay organized with interior pockets, and store additional gear in its two vestibules. The tent also features mesh panels for effective ventilation, and it comes with a rainfly for extra weather protection. Light enough for on-the-go adventurers, it packs compactly into a carrying bag for seamless transportation. Reflective guy lines ensure visibility at night for added safety, and the tent stands freely for versatile placement. Experience the reliability of double-stitched seams that guarantee increased durability, and rest easy under the stars with OutdoorLiving's SkyView 2-Person Tent. It's not just a tent; it's your home away from home.\", 'filepath': 'skyview-2-person-tent', 'title': 'SkyView 2-Person Tent', 'url': '/products/skyview-2-person-tent'}, {'id': '8', 'content': \"Welcome to the joy of camping with the Alpine Explorer Tent! This robust, 8-person, 3-season marvel is from the responsible hands of the AlpineGear brand. Promising an enviable setup that is as straightforward as counting sheep, your camping experience is transformed into a breezy pastime. Looking for privacy? The detachable divider provides separate spaces at a moment's notice. Love a tent that breathes? The numerous mesh windows and adjustable vents fend off any condensation dragon trying to dampen your adventure fun. The waterproof assurance keeps you worry-free during unexpected rain dances. With a built-in gear loft to stash away your outdoor essentials, the Alpine Explorer Tent emerges as a smooth balance of privacy, comfort, and convenience. Simply put, this tent isn't just a shelter - it's your second home in the heart of nature! Whether you're a seasoned camper or a nature-loving novice, this tent makes exploring the outdoors a joyous journey.\", 'filepath': 'alpine-explorer-tent', 'title': 'Alpine Explorer Tent', 'url': '/products/alpine-explorer-tent'}, {'id': '12', 'content': \"Gravitate towards comfort with the TrekMaster Camping Chair from CampBuddy. This trusty outdoor companion boasts sturdy construction using high-quality materials that promise durability and enjoyment for seasons to come. Impeccably lightweight and portable, it's designed to be your go-to seat whether you're camping, at a picnic, cheering at a sporting event, or simply relishing in your backyard pleasures. Beyond its foldable design ensuring compact storage and easy transportation, its ergonomic magic is in the details. An adjustable recline, padded seat and backrest, integrated cup holder, and side pockets ensure the greatest outdoor comfort. Weather resistant, easy to clean, and capable of supporting diverse body types, this versatile chair also comes with a carry bag, ready for your next adventure.\", 'filepath': 'trekmaster-camping-chair', 'title': 'TrekMaster Camping Chair', 'url': '/products/trekmaster-camping-chair'}, {'id': '14', 'content': \"Meet the MountainDream Sleeping Bag: your new must-have companion for every outdoor adventure. Designed to handle 3-season camping with ease, it comes equipped with a premium synthetic insulation that will keep you cozy even when temperatures fall down to 15°F! Sporting a durable water-resistant nylon shell and soft breathable polyester lining, this bag doesn't sacrifice comfort for toughness. The star of the show is the contoured mummy shape that not only provides optimal heat retention but also cuts down on the weight. A smooth, snag-free YKK zipper with a unique anti-snag design allows for hassle-free operation, while the adjustable hood and full-length zipper baffle work together to ensure you stay warm all night long. Need to bring along some essentials? Not to worry! There's an interior pocket just for that. And when it's time to pack up? Just slip it into the included compression sack for easy storage and transport. Whether you're a backpacking pro or a camping novice, the MountainDream Sleeping Bag is the perfect blend of durability, warmth, and comfort that you've been looking for.\", 'filepath': 'mountaindream-sleeping-bag', 'title': 'MountainDream Sleeping Bag', 'url': '/products/mountaindream-sleeping-bag'}]\n",
      "💬 Response: {'content': \"I recommend the TrailMaster X4 Tent. It is designed to comfortably accommodate four occupants and features durable polyester construction that ensures water resistance. The tent includes a rainfly for extra weather protection and provides good airflow with its mesh panels. Additionally, it has multiple doors for easy accessibility, interior pockets for organization, and a freestanding design for simple setup and relocation. It's a great choice for your camping adventure!\", 'refusal': None, 'role': 'assistant'}\n",
      "{'message': {'content': \"I recommend the TrailMaster X4 Tent. It is designed to comfortably accommodate four occupants and features durable polyester construction that ensures water resistance. The tent includes a rainfly for extra weather protection and provides good airflow with its mesh panels. Additionally, it has multiple doors for easy accessibility, interior pockets for organization, and a freestanding design for simple setup and relocation. It's a great choice for your camping adventure!\", 'refusal': None, 'role': 'assistant'}, 'context': {'thoughts': [{'title': 'Generated search query', 'description': '{\\n    \"intent\": \"The user is seeking recommendations for a tent suitable for 4 people.\",\\n    \"search_query\": \"best tents for 4 people\"\\n}'}], 'grounding_data': [[{'id': '1', 'content': 'Unveiling the TrailMaster X4 Tent from OutdoorLiving, your home away from home for your next camping adventure. Crafted from durable polyester, this tent boasts a spacious interior perfect for four occupants. It ensures your dryness under drizzly skies thanks to its water-resistant construction, and the accompanying rainfly adds an extra layer of weather protection. It offers refreshing airflow and bug defence, courtesy of its mesh panels. Accessibility is not an issue with its multiple doors and interior pockets that keep small items tidy. Reflective guy lines grant better visibility at night, and the freestanding design simplifies setup and relocation. With the included carry bag, transporting this convenient abode becomes a breeze. Be it an overnight getaway or a week-long nature escapade, the TrailMaster X4 Tent provides comfort, convenience, and concord with the great outdoors. Comes with a two-year limited warranty to ensure customer satisfaction.', 'filepath': 'trailmaster-x4-tent', 'title': 'TrailMaster X4 Tent', 'url': '/products/trailmaster-x4-tent'}, {'id': '15', 'content': \"Introducing the OutdoorLiving SkyView 2-Person Tent, a perfect companion for your camping and hiking adventures. This tent offers a spacious interior that houses two people comfortably, with room to spare. Crafted from durable waterproof materials to shield you from the elements, it is the fortress you need in the wild. Setup is a breeze thanks to its intuitive design and color-coded poles, while two large doors allow for easy access. Stay organized with interior pockets, and store additional gear in its two vestibules. The tent also features mesh panels for effective ventilation, and it comes with a rainfly for extra weather protection. Light enough for on-the-go adventurers, it packs compactly into a carrying bag for seamless transportation. Reflective guy lines ensure visibility at night for added safety, and the tent stands freely for versatile placement. Experience the reliability of double-stitched seams that guarantee increased durability, and rest easy under the stars with OutdoorLiving's SkyView 2-Person Tent. It's not just a tent; it's your home away from home.\", 'filepath': 'skyview-2-person-tent', 'title': 'SkyView 2-Person Tent', 'url': '/products/skyview-2-person-tent'}, {'id': '8', 'content': \"Welcome to the joy of camping with the Alpine Explorer Tent! This robust, 8-person, 3-season marvel is from the responsible hands of the AlpineGear brand. Promising an enviable setup that is as straightforward as counting sheep, your camping experience is transformed into a breezy pastime. Looking for privacy? The detachable divider provides separate spaces at a moment's notice. Love a tent that breathes? The numerous mesh windows and adjustable vents fend off any condensation dragon trying to dampen your adventure fun. The waterproof assurance keeps you worry-free during unexpected rain dances. With a built-in gear loft to stash away your outdoor essentials, the Alpine Explorer Tent emerges as a smooth balance of privacy, comfort, and convenience. Simply put, this tent isn't just a shelter - it's your second home in the heart of nature! Whether you're a seasoned camper or a nature-loving novice, this tent makes exploring the outdoors a joyous journey.\", 'filepath': 'alpine-explorer-tent', 'title': 'Alpine Explorer Tent', 'url': '/products/alpine-explorer-tent'}, {'id': '12', 'content': \"Gravitate towards comfort with the TrekMaster Camping Chair from CampBuddy. This trusty outdoor companion boasts sturdy construction using high-quality materials that promise durability and enjoyment for seasons to come. Impeccably lightweight and portable, it's designed to be your go-to seat whether you're camping, at a picnic, cheering at a sporting event, or simply relishing in your backyard pleasures. Beyond its foldable design ensuring compact storage and easy transportation, its ergonomic magic is in the details. An adjustable recline, padded seat and backrest, integrated cup holder, and side pockets ensure the greatest outdoor comfort. Weather resistant, easy to clean, and capable of supporting diverse body types, this versatile chair also comes with a carry bag, ready for your next adventure.\", 'filepath': 'trekmaster-camping-chair', 'title': 'TrekMaster Camping Chair', 'url': '/products/trekmaster-camping-chair'}, {'id': '14', 'content': \"Meet the MountainDream Sleeping Bag: your new must-have companion for every outdoor adventure. Designed to handle 3-season camping with ease, it comes equipped with a premium synthetic insulation that will keep you cozy even when temperatures fall down to 15°F! Sporting a durable water-resistant nylon shell and soft breathable polyester lining, this bag doesn't sacrifice comfort for toughness. The star of the show is the contoured mummy shape that not only provides optimal heat retention but also cuts down on the weight. A smooth, snag-free YKK zipper with a unique anti-snag design allows for hassle-free operation, while the adjustable hood and full-length zipper baffle work together to ensure you stay warm all night long. Need to bring along some essentials? Not to worry! There's an interior pocket just for that. And when it's time to pack up? Just slip it into the included compression sack for easy storage and transport. Whether you're a backpacking pro or a camping novice, the MountainDream Sleeping Bag is the perfect blend of durability, warmth, and comfort that you've been looking for.\", 'filepath': 'mountaindream-sleeping-bag', 'title': 'MountainDream Sleeping Bag', 'url': '/products/mountaindream-sleeping-bag'}]]}}\n"
     ]
    }
   ],
   "source": [
    "enable_telemetry(True)\n",
    "\n",
    "query = \"I need a new tent for 4 people, what would you recommend?\"\n",
    "\n",
    "response = chat_with_products(messages=[{\"role\": \"user\", \"content\": query}])\n",
    "\n",
    "print(response)"
   ]
  }
 ],
 "metadata": {
  "kernelspec": {
   "display_name": ".venv",
   "language": "python",
   "name": "python3"
  },
  "language_info": {
   "codemirror_mode": {
    "name": "ipython",
    "version": 3
   },
   "file_extension": ".py",
   "mimetype": "text/x-python",
   "name": "python",
   "nbconvert_exporter": "python",
   "pygments_lexer": "ipython3",
   "version": "3.12.8"
  }
 },
 "nbformat": 4,
 "nbformat_minor": 2
}
