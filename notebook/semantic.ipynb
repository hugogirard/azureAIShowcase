{
 "cells": [
  {
   "cell_type": "code",
   "execution_count": null,
   "metadata": {},
   "outputs": [],
   "source": [
    "%pip install semantic-kernel[azure]"
   ]
  },
  {
   "cell_type": "markdown",
   "metadata": {},
   "source": [
    "Load environment variables"
   ]
  },
  {
   "cell_type": "code",
   "execution_count": 1,
   "metadata": {},
   "outputs": [
    {
     "data": {
      "text/plain": [
       "True"
      ]
     },
     "execution_count": 1,
     "metadata": {},
     "output_type": "execute_result"
    }
   ],
   "source": [
    "from dotenv import load_dotenv\n",
    "import os\n",
    "\n",
    "load_dotenv(override=True)"
   ]
  },
  {
   "cell_type": "markdown",
   "metadata": {},
   "source": [
    "Configure the Semantic Kernel Endpoint"
   ]
  },
  {
   "cell_type": "code",
   "execution_count": 2,
   "metadata": {},
   "outputs": [],
   "source": [
    "from semantic_kernel.connectors.ai.azure_ai_inference import AzureAIInferenceChatCompletion\n",
    "\n",
    "chat_completion_service = AzureAIInferenceChatCompletion(\n",
    "                                        endpoint=os.getenv('AZUREAI_ENDPOINT'), \n",
    "                                        api_key=os.getenv('AZUREAI_ENDPOINT_KEY'), \n",
    "                                        ai_model_id='gpt-4o-mini'\n",
    "                          )"
   ]
  },
  {
   "cell_type": "code",
   "execution_count": 3,
   "metadata": {},
   "outputs": [],
   "source": [
    "from semantic_kernel.connectors.ai.azure_ai_inference import AzureAIInferenceChatPromptExecutionSettings\n",
    "\n",
    "execution_settings = AzureAIInferenceChatPromptExecutionSettings(\n",
    "    max_tokens=2000,\n",
    "    temperature=0.5,\n",
    "    top_p=0.9,\n",
    "    # extra_parameters={...},    # model-specific parameters\n",
    ")"
   ]
  },
  {
   "cell_type": "code",
   "execution_count": null,
   "metadata": {},
   "outputs": [],
   "source": [
    "from semantic_kernel.contents.chat_history import ChatHistory\n",
    "\n",
    "chat_history = ChatHistory()\n",
    "chat_history.add_user_message(\"Hello, tell me the 3 biggest cities in Canada ?\")\n",
    "\n",
    "response = await chat_completion_service.get_chat_message_content(\n",
    "    chat_history=chat_history,\n",
    "    settings=execution_settings,\n",
    ")\n",
    "\n",
    "print(response)\n",
    "\n",
    "chat_history.add_assistant_message(response.content)"
   ]
  },
  {
   "cell_type": "code",
   "execution_count": 5,
   "metadata": {},
   "outputs": [
    {
     "name": "stdout",
     "output_type": "stream",
     "text": [
      "Sure! Here are five fun facts about Toronto:\n",
      "\n",
      "1. **Diverse Population**: Toronto is one of the most multicultural cities in the world, with over 50% of its residents being born outside of Canada. It is home to numerous ethnic neighborhoods, each with its unique culture and cuisine.\n",
      "\n",
      "2. **CN Tower**: The CN Tower, one of Toronto's most iconic landmarks, was once the tallest freestanding structure in the world at 553.3 meters (1,815 feet). It features a glass floor and an observation deck that offers stunning views of the city and Lake Ontario.\n",
      "\n",
      "3. **Green Space**: Toronto boasts an extensive network of parks and green spaces. High Park, one of the largest parks in the city, covers 399 acres and features hiking trails, gardens, and even a small zoo.\n",
      "\n",
      "4. **The PATH**: Toronto has the largest underground shopping complex in the world, known as the PATH. It spans over 30 kilometers (19 miles) and connects various office buildings, shopping centers, and subway stations, making it a popular way to navigate the city, especially in winter.\n",
      "\n",
      "5. **Film Festival**: Toronto is home to the Toronto International Film Festival (TIFF), one of the most prestigious film festivals globally. It attracts filmmakers, celebrities, and film enthusiasts from around the world every September and is known for showcasing a diverse range of films.\n",
      "\n",
      "These facts highlight Toronto's rich culture, history, and vibrant urban life!\n"
     ]
    }
   ],
   "source": [
    "chat_history.add_user_message(\"Hello, tell me 5 fun facts about the first one ?\")\n",
    "\n",
    "response = await chat_completion_service.get_chat_message_content(\n",
    "    chat_history=chat_history,\n",
    "    settings=execution_settings,\n",
    ")\n",
    "\n",
    "print(response)"
   ]
  }
 ],
 "metadata": {
  "kernelspec": {
   "display_name": ".venv",
   "language": "python",
   "name": "python3"
  },
  "language_info": {
   "codemirror_mode": {
    "name": "ipython",
    "version": 3
   },
   "file_extension": ".py",
   "mimetype": "text/x-python",
   "name": "python",
   "nbconvert_exporter": "python",
   "pygments_lexer": "ipython3",
   "version": "3.12.8"
  }
 },
 "nbformat": 4,
 "nbformat_minor": 2
}
